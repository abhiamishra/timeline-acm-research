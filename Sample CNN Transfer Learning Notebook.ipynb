{
 "cells": [
  {
   "cell_type": "code",
   "execution_count": 30,
   "id": "df40f209",
   "metadata": {},
   "outputs": [],
   "source": [
    "#pip install tensorflow\n",
    "import tensorflow"
   ]
  },
  {
   "cell_type": "code",
   "execution_count": 4,
   "id": "68c6333b",
   "metadata": {},
   "outputs": [
    {
     "data": {
      "application/javascript": [
       "\n",
       "        if (window._pyforest_update_imports_cell) { window._pyforest_update_imports_cell('import tensorflow as tf'); }\n",
       "    "
      ],
      "text/plain": [
       "<IPython.core.display.Javascript object>"
      ]
     },
     "metadata": {},
     "output_type": "display_data"
    },
    {
     "name": "stdout",
     "output_type": "stream",
     "text": [
      "Downloading data from https://www.cs.toronto.edu/~kriz/cifar-10-python.tar.gz\n",
      "170500096/170498071 [==============================] - 3s 0us/step\n"
     ]
    }
   ],
   "source": [
    "#Load sample dataset from tensorflow\n",
    "(X_train, y_train), (X_test, y_test) = tf.keras.datasets.cifar10.load_data()"
   ]
  },
  {
   "cell_type": "code",
   "execution_count": 6,
   "id": "6c76e2ef",
   "metadata": {},
   "outputs": [
    {
     "data": {
      "image/png": "[encoded data removed]",
      "text/plain": [
       "<Figure size 432x288 with 1 Axes>"
      ]
     },
     "metadata": {
      "needs_background": "light"
     },
     "output_type": "display_data"
    }
   ],
   "source": [
    "#Let's see how our images look like right now:\n",
    "from keras.preprocessing import image\n",
    "import matplotlib.pyplot as plt\n",
    "\n",
    "plt.imshow(X_train[5])\n",
    "plt.show()"
   ]
  },
  {
   "cell_type": "code",
   "execution_count": 7,
   "id": "f83a7aa5",
   "metadata": {},
   "outputs": [],
   "source": [
    "#Scaling our CNN\n",
    "X_train = X_train / 255\n",
    "X_test = X_test / 255"
   ]
  },
  {
   "cell_type": "code",
   "execution_count": 8,
   "id": "6ec8ea09",
   "metadata": {},
   "outputs": [],
   "source": [
    "#First steps in using CNNs\n",
    "from tensorflow.keras.models import Sequential\n",
    "from tensorflow.keras.layers import Conv2D, MaxPooling2D\n",
    "from tensorflow.keras.layers import BatchNormalization\n",
    "from tensorflow.keras.layers import Activation, Dropout, Flatten, Dense\n",
    "from tensorflow.keras.optimizers import SGD"
   ]
  },
  {
   "cell_type": "code",
   "execution_count": 12,
   "id": "7cc2f3c6",
   "metadata": {},
   "outputs": [],
   "source": [
    "def network():\n",
    "    cnet = Sequential()\n",
    "    cnet.add(Conv2D(filters=32, padding='same', activation='relu', kernel_size=3, input_shape=(32,32,3)))\n",
    "    cnet.add(BatchNormalization())\n",
    "    \n",
    "    cnet.add(Conv2D(filters=32, padding='same', kernel_size=3, activation='relu'))\n",
    "    cnet.add(BatchNormalization())\n",
    "    cnet.add(MaxPooling2D(pool_size=2, strides=2))\n",
    "    cnet.add(Dropout(0.05))\n",
    "    \n",
    "    cnet.add(Flatten())\n",
    "    \n",
    "    cnet.add(Dense(128, activation='relu'))\n",
    "    cnet.add(Dense(10, activation='softmax'))\n",
    "    \n",
    "    return cnet"
   ]
  },
  {
   "cell_type": "code",
   "execution_count": 13,
   "id": "eb9be0c2",
   "metadata": {},
   "outputs": [],
   "source": [
    "cnet = network()"
   ]
  },
  {
   "cell_type": "code",
   "execution_count": 14,
   "id": "bcad1faf",
   "metadata": {
    "scrolled": false
   },
   "outputs": [
    {
     "name": "stdout",
     "output_type": "stream",
     "text": [
      "Model: \"sequential_1\"\n",
      "_________________________________________________________________\n",
      "Layer (type)                 Output Shape              Param #   \n",
      "=================================================================\n",
      "conv2d (Conv2D)              (None, 32, 32, 32)        896       \n",
      "_________________________________________________________________\n",
      "batch_normalization (BatchNo (None, 32, 32, 32)        128       \n",
      "_________________________________________________________________\n",
      "conv2d_1 (Conv2D)            (None, 32, 32, 32)        9248      \n",
      "_________________________________________________________________\n",
      "batch_normalization_1 (Batch (None, 32, 32, 32)        128       \n",
      "_________________________________________________________________\n",
      "max_pooling2d (MaxPooling2D) (None, 16, 16, 32)        0         \n",
      "_________________________________________________________________\n",
      "dropout (Dropout)            (None, 16, 16, 32)        0         \n",
      "_________________________________________________________________\n",
      "flatten (Flatten)            (None, 8192)              0         \n",
      "_________________________________________________________________\n",
      "dense (Dense)                (None, 128)               1048704   \n",
      "_________________________________________________________________\n",
      "dense_1 (Dense)              (None, 10)                1290      \n",
      "=================================================================\n",
      "Total params: 1,060,394\n",
      "Trainable params: 1,060,266\n",
      "Non-trainable params: 128\n",
      "_________________________________________________________________\n"
     ]
    }
   ],
   "source": [
    "cnet.summary()"
   ]
  },
  {
   "cell_type": "code",
   "execution_count": 15,
   "id": "dc7d8ad4",
   "metadata": {},
   "outputs": [
    {
     "data": {
      "application/javascript": [
       "\n",
       "        if (window._pyforest_update_imports_cell) { window._pyforest_update_imports_cell('import tensorflow as tf'); }\n",
       "    "
      ],
      "text/plain": [
       "<IPython.core.display.Javascript object>"
      ]
     },
     "metadata": {},
     "output_type": "display_data"
    }
   ],
   "source": [
    "cnet.compile(optimizer = 'adam',\n",
    "             loss=tf.keras.losses.SparseCategoricalCrossentropy(from_logits=True),\n",
    "             metrics=['accuracy'])"
   ]
  },
  {
   "cell_type": "code",
   "execution_count": 21,
   "id": "60c62682",
   "metadata": {},
   "outputs": [
    {
     "data": {
      "application/javascript": [
       "\n",
       "        if (window._pyforest_update_imports_cell) { window._pyforest_update_imports_cell('import tensorflow as tf'); }\n",
       "    "
      ],
      "text/plain": [
       "<IPython.core.display.Javascript object>"
      ]
     },
     "metadata": {},
     "output_type": "display_data"
    }
   ],
   "source": [
    "#Automatically save the best model\n",
    "from tensorflow.keras.callbacks import EarlyStopping\n",
    "\n",
    "checkpoint_filepath = '/tmp/checkpoint'\n",
    "model_checkpoint_callback = tf.keras.callbacks.ModelCheckpoint(\n",
    "    filepath=checkpoint_filepath,\n",
    "    save_weights_only=False,\n",
    "    monitor='loss',\n",
    "    mode='min',\n",
    "    save_best_only=True)\n",
    "\n",
    "callbacks = [\n",
    "             EarlyStopping(patience=2)\n",
    "]"
   ]
  },
  {
   "cell_type": "code",
   "execution_count": 23,
   "id": "98efbe99",
   "metadata": {},
   "outputs": [
    {
     "name": "stdout",
     "output_type": "stream",
     "text": [
      "Epoch 1/600\n",
      "1563/1563 [==============================] - 122s 78ms/step - loss: 1.5894 - accuracy: 0.4501 - val_loss: 1.2522 - val_accuracy: 0.5664\n",
      "Epoch 2/600\n",
      "1563/1563 [==============================] - 140s 89ms/step - loss: 0.9439 - accuracy: 0.6703 - val_loss: 1.4198 - val_accuracy: 0.5629\n",
      "Epoch 3/600\n",
      "1563/1563 [==============================] - 132s 85ms/step - loss: 0.7605 - accuracy: 0.7358 - val_loss: 1.0331 - val_accuracy: 0.6416\n",
      "Epoch 4/600\n",
      "1563/1563 [==============================] - 118s 75ms/step - loss: 0.6261 - accuracy: 0.7837 - val_loss: 0.9856 - val_accuracy: 0.6779\n",
      "Epoch 5/600\n",
      "1563/1563 [==============================] - 120s 77ms/step - loss: 0.5102 - accuracy: 0.8249 - val_loss: 1.0466 - val_accuracy: 0.6676\n",
      "Epoch 6/600\n",
      "1563/1563 [==============================] - 125s 80ms/step - loss: 0.4040 - accuracy: 0.8596 - val_loss: 1.1189 - val_accuracy: 0.6684\n"
     ]
    }
   ],
   "source": [
    "history = cnet.fit(X_train,\n",
    "                    y_train, \n",
    "                    epochs=600,\n",
    "                    validation_data=(X_test,y_test),\n",
    "                    callbacks=callbacks)"
   ]
  },
  {
   "cell_type": "code",
   "execution_count": 25,
   "id": "7e364d29",
   "metadata": {},
   "outputs": [
    {
     "data": {
      "application/javascript": [
       "\n",
       "        if (window._pyforest_update_imports_cell) { window._pyforest_update_imports_cell('import tensorflow as tf\\nimport pandas as pd'); }\n",
       "    "
      ],
      "text/plain": [
       "<IPython.core.display.Javascript object>"
      ]
     },
     "metadata": {},
     "output_type": "display_data"
    },
    {
     "data": {
      "text/plain": [
       "<AxesSubplot:>"
      ]
     },
     "execution_count": 25,
     "metadata": {},
     "output_type": "execute_result"
    },
    {
     "data": {
      "image/png": "[encoded data removed]",
      "text/plain": [
       "<Figure size 432x288 with 1 Axes>"
      ]
     },
     "metadata": {
      "needs_background": "light"
     },
     "output_type": "display_data"
    }
   ],
   "source": [
    "metrics = pd.DataFrame(history.history)\n",
    "metrics[[\"loss\", \"val_loss\"]].plot()"
   ]
  },
  {
   "cell_type": "code",
   "execution_count": 28,
   "id": "a7ba3f41",
   "metadata": {},
   "outputs": [
    {
     "data": {
      "text/plain": [
       "<AxesSubplot:>"
      ]
     },
     "execution_count": 28,
     "metadata": {},
     "output_type": "execute_result"
    },
    {
     "data": {
      "image/png": "[encoded data removed]",
      "text/plain": [
       "<Figure size 432x288 with 1 Axes>"
      ]
     },
     "metadata": {
      "needs_background": "light"
     },
     "output_type": "display_data"
    }
   ],
   "source": [
    "metrics[[\"accuracy\",\"val_accuracy\"]].plot()"
   ]
  },
  {
   "cell_type": "code",
   "execution_count": 29,
   "id": "d089e97c",
   "metadata": {},
   "outputs": [],
   "source": [
    "#Saving model\n",
    "cnet.save(\"model.h5\")"
   ]
  },
  {
   "cell_type": "code",
   "execution_count": null,
   "id": "1a093b60",
   "metadata": {},
   "outputs": [],
   "source": [
    "#Loading the model for further usage\n",
    "load_saved_model = tf.keras.models.load_model(\"model.h5\")\n",
    "load_saved_model.summary()"
   ]
  }
 ],
 "metadata": {
  "kernelspec": {
   "display_name": "Python 3",
   "language": "python",
   "name": "python3"
  },
  "language_info": {
   "codemirror_mode": {
    "name": "ipython",
    "version": 3
   },
   "file_extension": ".py",
   "mimetype": "text/x-python",
   "name": "python",
   "nbconvert_exporter": "python",
   "pygments_lexer": "ipython3",
   "version": "3.8.8"
  }
 },
 "nbformat": 4,
 "nbformat_minor": 5
}
