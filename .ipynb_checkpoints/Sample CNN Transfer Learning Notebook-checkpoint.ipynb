{
 "cells": [
  {
   "cell_type": "code",
   "execution_count": 30,
   "id": "1f738d79",
   "metadata": {},
   "outputs": [],
   "source": [
    "#pip install tensorflow\n",
    "import tensorflow"
   ]
  },
  {
   "cell_type": "code",
   "execution_count": 41,
   "id": "68c6333b",
   "metadata": {},
   "outputs": [
    {
     "data": {
      "application/javascript": [
       "\n",
       "        if (window._pyforest_update_imports_cell) { window._pyforest_update_imports_cell('import tensorflow as tf'); }\n",
       "    "
      ],
      "text/plain": [
       "<IPython.core.display.Javascript object>"
      ]
     },
     "metadata": {},
     "output_type": "display_data"
    }
   ],
   "source": [
    "#Load sample dataset from tensorflow\n",
    "(X_train, y_train), (X_test, y_test) = tf.keras.datasets.cifar10.load_data()"
   ]
  },
  {
   "cell_type": "code",
   "execution_count": 20,
   "id": "6c76e2ef",
   "metadata": {},
   "outputs": [
    {
     "data": {
      "image/png": "[encoded data removed]",
      "text/plain": [
       "<Figure size 432x288 with 1 Axes>"
      ]
     },
     "metadata": {
      "needs_background": "light"
     },
     "output_type": "display_data"
    }
   ],
   "source": [
    "#Let's see how our images look like right now:\n",
    "from tensorflow.keras.preprocessing import image\n",
    "import matplotlib.pyplot as plt\n",
    "\n",
    "plt.imshow(X_train[5])\n",
    "plt.show()"
   ]
  },
  {
   "cell_type": "code",
   "execution_count": 21,
   "id": "f83a7aa5",
   "metadata": {},
   "outputs": [],
   "source": [
    "#Scaling our CNN\n",
    "X_train = X_train / 255\n",
    "X_test = X_test / 255"
   ]
  },
  {
   "cell_type": "markdown",
   "id": "b94d7b4f",
   "metadata": {},
   "source": [
    "# Simple Self-Made CNN"
   ]
  },
  {
   "cell_type": "code",
   "execution_count": 44,
   "id": "6ec8ea09",
   "metadata": {},
   "outputs": [],
   "source": [
    "#First steps in using CNNs\n",
    "from tensorflow.keras.models import Sequential\n",
    "from tensorflow.keras.layers import Conv2D, MaxPooling2D\n",
    "from tensorflow.keras.layers import BatchNormalization\n",
    "from tensorflow.keras.layers import Activation, Dropout, Flatten, Dense\n",
    "from tensorflow.keras.optimizers import SGD"
   ]
  },
  {
   "cell_type": "code",
   "execution_count": 12,
   "id": "7cc2f3c6",
   "metadata": {},
   "outputs": [],
   "source": [
    "def network():\n",
    "    cnet = Sequential()\n",
    "    cnet.add(Conv2D(filters=32, padding='same', activation='relu', kernel_size=3, input_shape=(32,32,3)))\n",
    "    cnet.add(BatchNormalization())\n",
    "    \n",
    "    cnet.add(Conv2D(filters=32, padding='same', kernel_size=3, activation='relu'))\n",
    "    cnet.add(BatchNormalization())\n",
    "    cnet.add(MaxPooling2D(pool_size=2, strides=2))\n",
    "    cnet.add(Dropout(0.05))\n",
    "    \n",
    "    cnet.add(Flatten())\n",
    "    \n",
    "    cnet.add(Dense(128, activation='relu'))\n",
    "    cnet.add(Dense(10, activation='softmax'))\n",
    "    \n",
    "    return cnet"
   ]
  },
  {
   "cell_type": "code",
   "execution_count": 13,
   "id": "eb9be0c2",
   "metadata": {},
   "outputs": [],
   "source": [
    "cnet = network()"
   ]
  },
  {
   "cell_type": "code",
   "execution_count": 14,
   "id": "bcad1faf",
   "metadata": {
    "scrolled": false
   },
   "outputs": [
    {
     "name": "stdout",
     "output_type": "stream",
     "text": [
      "Model: \"sequential_1\"\n",
      "_________________________________________________________________\n",
      "Layer (type)                 Output Shape              Param #   \n",
      "=================================================================\n",
      "conv2d (Conv2D)              (None, 32, 32, 32)        896       \n",
      "_________________________________________________________________\n",
      "batch_normalization (BatchNo (None, 32, 32, 32)        128       \n",
      "_________________________________________________________________\n",
      "conv2d_1 (Conv2D)            (None, 32, 32, 32)        9248      \n",
      "_________________________________________________________________\n",
      "batch_normalization_1 (Batch (None, 32, 32, 32)        128       \n",
      "_________________________________________________________________\n",
      "max_pooling2d (MaxPooling2D) (None, 16, 16, 32)        0         \n",
      "_________________________________________________________________\n",
      "dropout (Dropout)            (None, 16, 16, 32)        0         \n",
      "_________________________________________________________________\n",
      "flatten (Flatten)            (None, 8192)              0         \n",
      "_________________________________________________________________\n",
      "dense (Dense)                (None, 128)               1048704   \n",
      "_________________________________________________________________\n",
      "dense_1 (Dense)              (None, 10)                1290      \n",
      "=================================================================\n",
      "Total params: 1,060,394\n",
      "Trainable params: 1,060,266\n",
      "Non-trainable params: 128\n",
      "_________________________________________________________________\n"
     ]
    }
   ],
   "source": [
    "cnet.summary()"
   ]
  },
  {
   "cell_type": "code",
   "execution_count": 15,
   "id": "dc7d8ad4",
   "metadata": {},
   "outputs": [
    {
     "data": {
      "application/javascript": [
       "\n",
       "        if (window._pyforest_update_imports_cell) { window._pyforest_update_imports_cell('import tensorflow as tf'); }\n",
       "    "
      ],
      "text/plain": [
       "<IPython.core.display.Javascript object>"
      ]
     },
     "metadata": {},
     "output_type": "display_data"
    }
   ],
   "source": [
    "cnet.compile(optimizer = 'adam',\n",
    "             loss=tf.keras.losses.SparseCategoricalCrossentropy(from_logits=True),\n",
    "             metrics=['accuracy'])"
   ]
  },
  {
   "cell_type": "code",
   "execution_count": 21,
   "id": "60c62682",
   "metadata": {},
   "outputs": [
    {
     "data": {
      "application/javascript": [
       "\n",
       "        if (window._pyforest_update_imports_cell) { window._pyforest_update_imports_cell('import tensorflow as tf'); }\n",
       "    "
      ],
      "text/plain": [
       "<IPython.core.display.Javascript object>"
      ]
     },
     "metadata": {},
     "output_type": "display_data"
    }
   ],
   "source": [
    "#Automatically save the best model\n",
    "from tensorflow.keras.callbacks import EarlyStopping\n",
    "\n",
    "checkpoint_filepath = '/tmp/checkpoint'\n",
    "model_checkpoint_callback = tf.keras.callbacks.ModelCheckpoint(\n",
    "    filepath=checkpoint_filepath,\n",
    "    save_weights_only=False,\n",
    "    monitor='loss',\n",
    "    mode='min',\n",
    "    save_best_only=True)\n",
    "\n",
    "callbacks = [\n",
    "             EarlyStopping(patience=2)\n",
    "]"
   ]
  },
  {
   "cell_type": "code",
   "execution_count": 23,
   "id": "98efbe99",
   "metadata": {},
   "outputs": [
    {
     "name": "stdout",
     "output_type": "stream",
     "text": [
      "Epoch 1/600\n",
      "1563/1563 [==============================] - 122s 78ms/step - loss: 1.5894 - accuracy: 0.4501 - val_loss: 1.2522 - val_accuracy: 0.5664\n",
      "Epoch 2/600\n",
      "1563/1563 [==============================] - 140s 89ms/step - loss: 0.9439 - accuracy: 0.6703 - val_loss: 1.4198 - val_accuracy: 0.5629\n",
      "Epoch 3/600\n",
      "1563/1563 [==============================] - 132s 85ms/step - loss: 0.7605 - accuracy: 0.7358 - val_loss: 1.0331 - val_accuracy: 0.6416\n",
      "Epoch 4/600\n",
      "1563/1563 [==============================] - 118s 75ms/step - loss: 0.6261 - accuracy: 0.7837 - val_loss: 0.9856 - val_accuracy: 0.6779\n",
      "Epoch 5/600\n",
      "1563/1563 [==============================] - 120s 77ms/step - loss: 0.5102 - accuracy: 0.8249 - val_loss: 1.0466 - val_accuracy: 0.6676\n",
      "Epoch 6/600\n",
      "1563/1563 [==============================] - 125s 80ms/step - loss: 0.4040 - accuracy: 0.8596 - val_loss: 1.1189 - val_accuracy: 0.6684\n"
     ]
    }
   ],
   "source": [
    "history = cnet.fit(X_train,\n",
    "                    y_train, \n",
    "                    epochs=600,\n",
    "                    validation_data=(X_test,y_test),\n",
    "                    callbacks=callbacks)"
   ]
  },
  {
   "cell_type": "code",
   "execution_count": 25,
   "id": "7e364d29",
   "metadata": {},
   "outputs": [
    {
     "data": {
      "application/javascript": [
       "\n",
       "        if (window._pyforest_update_imports_cell) { window._pyforest_update_imports_cell('import tensorflow as tf\\nimport pandas as pd'); }\n",
       "    "
      ],
      "text/plain": [
       "<IPython.core.display.Javascript object>"
      ]
     },
     "metadata": {},
     "output_type": "display_data"
    },
    {
     "data": {
      "text/plain": [
       "<AxesSubplot:>"
      ]
     },
     "execution_count": 25,
     "metadata": {},
     "output_type": "execute_result"
    },
    {
     "data": {
      "image/png": "[encoded data removed]",
      "text/plain": [
       "<Figure size 432x288 with 1 Axes>"
      ]
     },
     "metadata": {
      "needs_background": "light"
     },
     "output_type": "display_data"
    }
   ],
   "source": [
    "metrics = pd.DataFrame(history.history)\n",
    "metrics[[\"loss\", \"val_loss\"]].plot()"
   ]
  },
  {
   "cell_type": "code",
   "execution_count": null,
   "id": "e96ef315",
   "metadata": {},
   "outputs": [],
   "source": []
  },
  {
   "cell_type": "code",
   "execution_count": 28,
   "id": "a7ba3f41",
   "metadata": {
    "scrolled": true
   },
   "outputs": [
    {
     "data": {
      "text/plain": [
       "<AxesSubplot:>"
      ]
     },
     "execution_count": 28,
     "metadata": {},
     "output_type": "execute_result"
    },
    {
     "data": {
      "image/png": "[encoded data removed]",
      "text/plain": [
       "<Figure size 432x288 with 1 Axes>"
      ]
     },
     "metadata": {
      "needs_background": "light"
     },
     "output_type": "display_data"
    }
   ],
   "source": [
    "metrics[[\"accuracy\",\"val_accuracy\"]].plot()"
   ]
  },
  {
   "cell_type": "code",
   "execution_count": 29,
   "id": "d089e97c",
   "metadata": {},
   "outputs": [],
   "source": [
    "#Saving model\n",
    "cnet.save(\"model.h5\")"
   ]
  },
  {
   "cell_type": "code",
   "execution_count": null,
   "id": "1a093b60",
   "metadata": {},
   "outputs": [],
   "source": [
    "#Loading the model for further usage\n",
    "load_saved_model = tf.keras.models.load_model(\"model.h5\")\n",
    "load_saved_model.summary()"
   ]
  },
  {
   "cell_type": "markdown",
   "id": "f61a97fe",
   "metadata": {},
   "source": [
    "# Transfer Learning CNN"
   ]
  },
  {
   "cell_type": "code",
   "execution_count": 65,
   "id": "075f853f",
   "metadata": {},
   "outputs": [],
   "source": [
    "from tensorflow.keras.applications.resnet50 import preprocess_input, ResNet50\n",
    "from tensorflow.keras.utils import to_categorical\n",
    "from tensorflow.keras.layers import Lambda, Conv2D, MaxPooling2D, BatchNormalization, GlobalAveragePooling2D, Dense\n",
    "from tensorflow.keras.models import Model, Sequential\n",
    "\n",
    "X_train_new = preprocess_input(X_train)\n",
    "y_train_new = to_categorical(y_train, 10)\n",
    "\n",
    "X_test_new = preprocess_input(X_test)\n",
    "y_test_new = to_categorical(y_test, 10)\n",
    "\n",
    "target_size = (224, 224)"
   ]
  },
  {
   "cell_type": "code",
   "execution_count": 66,
   "id": "2952c0ad",
   "metadata": {},
   "outputs": [],
   "source": [
    "base_model = ResNet50(include_top=False, weights='imagenet')\n",
    "for layer in base_model.layers:\n",
    "    layer.trainable = False\n",
    "\n",
    "x = base_model.output\n",
    "x = GlobalAveragePooling2D()(x)\n",
    "x = Dense(128, activation='relu')(x)\n",
    "predict = Dense(10, activation='softmax')(x)\n",
    "model = Model(inputs=base_model.input, outputs=predict)"
   ]
  },
  {
   "cell_type": "code",
   "execution_count": 69,
   "id": "83f2d4f7",
   "metadata": {},
   "outputs": [],
   "source": [
    "model.compile(optimizer='adam',\n",
    "             loss='categorical_crossentropy',\n",
    "             metrics = ['accuracy'])"
   ]
  },
  {
   "cell_type": "code",
   "execution_count": 71,
   "id": "4ca5e833",
   "metadata": {},
   "outputs": [
    {
     "data": {
      "application/javascript": [
       "\n",
       "        if (window._pyforest_update_imports_cell) { window._pyforest_update_imports_cell('import tensorflow as tf'); }\n",
       "    "
      ],
      "text/plain": [
       "<IPython.core.display.Javascript object>"
      ]
     },
     "metadata": {},
     "output_type": "display_data"
    }
   ],
   "source": [
    "#Automatically save the best model\n",
    "from tensorflow.keras.callbacks import EarlyStopping\n",
    "\n",
    "checkpoint_filepath = '/tmpnew/checkpoint'\n",
    "model_checkpoint_callback = tf.keras.callbacks.ModelCheckpoint(\n",
    "    filepath=checkpoint_filepath,\n",
    "    save_weights_only=False,\n",
    "    monitor='loss',\n",
    "    mode='min',\n",
    "    save_best_only=True)\n",
    "\n",
    "callbacks = [\n",
    "             EarlyStopping(patience=2)\n",
    "]"
   ]
  },
  {
   "cell_type": "code",
   "execution_count": 72,
   "id": "f5fcb684",
   "metadata": {},
   "outputs": [
    {
     "name": "stdout",
     "output_type": "stream",
     "text": [
      "Epoch 1/20\n",
      "1563/1563 [==============================] - 287s 179ms/step - loss: 1.4066 - accuracy: 0.5458 - val_loss: 1.0300 - val_accuracy: 0.6405\n",
      "Epoch 2/20\n",
      "1563/1563 [==============================] - 268s 171ms/step - loss: 0.9175 - accuracy: 0.6772 - val_loss: 1.0014 - val_accuracy: 0.6512\n",
      "Epoch 3/20\n",
      "1563/1563 [==============================] - 266s 170ms/step - loss: 0.8321 - accuracy: 0.7050 - val_loss: 1.0012 - val_accuracy: 0.6621\n",
      "Epoch 4/20\n",
      "1563/1563 [==============================] - 252s 161ms/step - loss: 0.7477 - accuracy: 0.7352 - val_loss: 1.0181 - val_accuracy: 0.6648\n",
      "Epoch 5/20\n",
      "1563/1563 [==============================] - 257s 164ms/step - loss: 0.6788 - accuracy: 0.7590 - val_loss: 1.0398 - val_accuracy: 0.6630\n",
      "Epoch 6/20\n",
      "1563/1563 [==============================] - 252s 161ms/step - loss: 0.6273 - accuracy: 0.7778 - val_loss: 1.0939 - val_accuracy: 0.6554\n",
      "Epoch 7/20\n",
      "1563/1563 [==============================] - 264s 169ms/step - loss: 0.5633 - accuracy: 0.8013 - val_loss: 1.1502 - val_accuracy: 0.6609\n",
      "Epoch 8/20\n",
      "1563/1563 [==============================] - 685s 438ms/step - loss: 0.5132 - accuracy: 0.8179 - val_loss: 1.1807 - val_accuracy: 0.6539\n",
      "Epoch 9/20\n",
      "1563/1563 [==============================] - 257s 164ms/step - loss: 0.4674 - accuracy: 0.8329 - val_loss: 1.2857 - val_accuracy: 0.6499\n",
      "Epoch 10/20\n",
      "1563/1563 [==============================] - 260s 166ms/step - loss: 0.4245 - accuracy: 0.8491 - val_loss: 1.3683 - val_accuracy: 0.6473\n",
      "Epoch 11/20\n",
      "1563/1563 [==============================] - 268s 171ms/step - loss: 0.3898 - accuracy: 0.8612 - val_loss: 1.4617 - val_accuracy: 0.6470\n",
      "Epoch 12/20\n",
      "1563/1563 [==============================] - 238s 152ms/step - loss: 0.3478 - accuracy: 0.8761 - val_loss: 1.5290 - val_accuracy: 0.6416\n",
      "Epoch 13/20\n",
      "1563/1563 [==============================] - 230s 147ms/step - loss: 0.3213 - accuracy: 0.8859 - val_loss: 1.6360 - val_accuracy: 0.6387\n",
      "Epoch 14/20\n",
      "1563/1563 [==============================] - 230s 147ms/step - loss: 0.2960 - accuracy: 0.8945 - val_loss: 1.6760 - val_accuracy: 0.6388\n",
      "Epoch 15/20\n",
      "1563/1563 [==============================] - 231s 148ms/step - loss: 0.2653 - accuracy: 0.9046 - val_loss: 1.8456 - val_accuracy: 0.6410\n",
      "Epoch 16/20\n",
      "1563/1563 [==============================] - 137s 88ms/step - loss: 0.2443 - accuracy: 0.9140 - val_loss: 1.9677 - val_accuracy: 0.6316\n",
      "Epoch 17/20\n",
      "1563/1563 [==============================] - 154s 98ms/step - loss: 0.2305 - accuracy: 0.9184 - val_loss: 2.0351 - val_accuracy: 0.6314\n",
      "Epoch 18/20\n",
      "1563/1563 [==============================] - 147s 94ms/step - loss: 0.2150 - accuracy: 0.9240 - val_loss: 2.1609 - val_accuracy: 0.6250\n",
      "Epoch 19/20\n",
      "1563/1563 [==============================] - 151s 96ms/step - loss: 0.2125 - accuracy: 0.9248 - val_loss: 2.2187 - val_accuracy: 0.6385\n",
      "Epoch 20/20\n",
      "1563/1563 [==============================] - 144s 92ms/step - loss: 0.1801 - accuracy: 0.9374 - val_loss: 2.3771 - val_accuracy: 0.6230\n"
     ]
    }
   ],
   "source": [
    "history = model.fit(X_train_new,\n",
    "                    y_train_new, \n",
    "                    epochs=20,\n",
    "                    validation_data=(X_test_new,y_test_new))"
   ]
  },
  {
   "cell_type": "code",
   "execution_count": 73,
   "id": "1d632b9a",
   "metadata": {},
   "outputs": [],
   "source": [
    "#Saving model\n",
    "model.save(\"model_resnet.h5\")"
   ]
  },
  {
   "cell_type": "code",
   "execution_count": 74,
   "id": "66466a6b",
   "metadata": {},
   "outputs": [
    {
     "data": {
      "application/javascript": [
       "\n",
       "        if (window._pyforest_update_imports_cell) { window._pyforest_update_imports_cell('import pandas as pd\\nimport tensorflow as tf'); }\n",
       "    "
      ],
      "text/plain": [
       "<IPython.core.display.Javascript object>"
      ]
     },
     "metadata": {},
     "output_type": "display_data"
    },
    {
     "data": {
      "text/plain": [
       "<AxesSubplot:>"
      ]
     },
     "execution_count": 74,
     "metadata": {},
     "output_type": "execute_result"
    },
    {
     "data": {
      "image/png": "[encoded data removed]",
      "text/plain": [
       "<Figure size 432x288 with 1 Axes>"
      ]
     },
     "metadata": {
      "needs_background": "light"
     },
     "output_type": "display_data"
    }
   ],
   "source": [
    "metrics = pd.DataFrame(history.history)\n",
    "metrics[[\"loss\", \"val_loss\"]].plot()"
   ]
  },
  {
   "cell_type": "code",
   "execution_count": 75,
   "id": "e03615e5",
   "metadata": {},
   "outputs": [
    {
     "data": {
      "text/plain": [
       "<AxesSubplot:>"
      ]
     },
     "execution_count": 75,
     "metadata": {},
     "output_type": "execute_result"
    },
    {
     "data": {
      "image/png": "[encoded data removed]",
      "text/plain": [
       "<Figure size 432x288 with 1 Axes>"
      ]
     },
     "metadata": {
      "needs_background": "light"
     },
     "output_type": "display_data"
    }
   ],
   "source": [
    "metrics[[\"accuracy\",\"val_accuracy\"]].plot()"
   ]
  }
 ],
 "metadata": {
  "kernelspec": {
   "display_name": "Python 3",
   "language": "python",
   "name": "python3"
  },
  "language_info": {
   "codemirror_mode": {
    "name": "ipython",
    "version": 3
   },
   "file_extension": ".py",
   "mimetype": "text/x-python",
   "name": "python",
   "nbconvert_exporter": "python",
   "pygments_lexer": "ipython3",
   "version": "3.8.8"
  }
 },
 "nbformat": 4,
 "nbformat_minor": 5
}
